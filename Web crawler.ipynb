{
 "cells": [
  {
   "cell_type": "code",
   "execution_count": 1,
   "id": "b93f827f",
   "metadata": {},
   "outputs": [
    {
     "name": "stdout",
     "output_type": "stream",
     "text": [
      "Error downloading image 1: Invalid URL '/images/branding/searchlogo/1x/googlelogo_desk_heirloom_color_150x55dp.gif': No scheme supplied. Perhaps you meant http:///images/branding/searchlogo/1x/googlelogo_desk_heirloom_color_150x55dp.gif?\n"
     ]
    },
    {
     "ename": "NameError",
     "evalue": "name 'time' is not defined",
     "output_type": "error",
     "traceback": [
      "\u001b[0;31m---------------------------------------------------------------------------\u001b[0m",
      "\u001b[0;31mNameError\u001b[0m                                 Traceback (most recent call last)",
      "\u001b[0;32m/var/folders/1k/td1t09xd66d8yg1h7wd0_t5r0000gn/T/ipykernel_70822/2198794114.py\u001b[0m in \u001b[0;36m<module>\u001b[0;34m\u001b[0m\n\u001b[1;32m     68\u001b[0m \u001b[0mkeyword\u001b[0m \u001b[0;34m=\u001b[0m \u001b[0;34m\"a\"\u001b[0m\u001b[0;34m\u001b[0m\u001b[0;34m\u001b[0m\u001b[0m\n\u001b[1;32m     69\u001b[0m \u001b[0mlimit\u001b[0m \u001b[0;34m=\u001b[0m \u001b[0;36m100\u001b[0m\u001b[0;34m\u001b[0m\u001b[0;34m\u001b[0m\u001b[0m\n\u001b[0;32m---> 70\u001b[0;31m \u001b[0mdownload_images\u001b[0m\u001b[0;34m(\u001b[0m\u001b[0mkeyword\u001b[0m\u001b[0;34m,\u001b[0m \u001b[0mlimit\u001b[0m\u001b[0;34m)\u001b[0m\u001b[0;34m\u001b[0m\u001b[0;34m\u001b[0m\u001b[0m\n\u001b[0m",
      "\u001b[0;32m/var/folders/1k/td1t09xd66d8yg1h7wd0_t5r0000gn/T/ipykernel_70822/2198794114.py\u001b[0m in \u001b[0;36mdownload_images\u001b[0;34m(keyword, limit)\u001b[0m\n\u001b[1;32m     63\u001b[0m \u001b[0;34m\u001b[0m\u001b[0m\n\u001b[1;32m     64\u001b[0m             \u001b[0;31m# Delay for a short period between image downloads (to be polite to the server)\u001b[0m\u001b[0;34m\u001b[0m\u001b[0;34m\u001b[0m\u001b[0m\n\u001b[0;32m---> 65\u001b[0;31m             \u001b[0mtime\u001b[0m\u001b[0;34m.\u001b[0m\u001b[0msleep\u001b[0m\u001b[0;34m(\u001b[0m\u001b[0;36m0.1\u001b[0m\u001b[0;34m)\u001b[0m\u001b[0;34m\u001b[0m\u001b[0;34m\u001b[0m\u001b[0m\n\u001b[0m\u001b[1;32m     66\u001b[0m \u001b[0;34m\u001b[0m\u001b[0m\n\u001b[1;32m     67\u001b[0m \u001b[0;31m# Usage: Provide the keyword and the number of images to download\u001b[0m\u001b[0;34m\u001b[0m\u001b[0;34m\u001b[0m\u001b[0m\n",
      "\u001b[0;31mNameError\u001b[0m: name 'time' is not defined"
     ]
    }
   ],
   "source": [
    "import requests\n",
    "from bs4 import BeautifulSoup\n",
    "import urllib\n",
    "import os\n",
    "\n",
    "def download_images(keyword, limit):\n",
    "    # Create a directory to store the downloaded images\n",
    "    if not os.path.exists(keyword):\n",
    "        os.makedirs(keyword)\n",
    "\n",
    "    # Format the keyword for the Google Images search URL\n",
    "    query = urllib.parse.quote(keyword)\n",
    "\n",
    "    # Set the number of images to download per request\n",
    "    images_per_request = 20\n",
    "\n",
    "    # Calculate the number of requests needed to download the desired number of images\n",
    "    num_requests = (limit // images_per_request) + 1\n",
    "\n",
    "    for i in range(num_requests):\n",
    "        # Calculate the start index for the current request\n",
    "        start_index = i * images_per_request\n",
    "\n",
    "        # Construct the Google Images search URL\n",
    "        url = f\"https://www.google.com/search?q={query}&tbm=isch&start={start_index}\"\n",
    "\n",
    "        # Set headers to simulate a browser request\n",
    "        headers = {\n",
    "            \"User-Agent\": \"Mozilla/5.0 (Windows NT 10.0; Win64; x64) AppleWebKit/537.36 (KHTML, like Gecko) Chrome/58.0.3029.110 Safari/537.3\"\n",
    "        }\n",
    "\n",
    "        # Send an HTTP GET request to the Google Images URL\n",
    "        response = requests.get(url, headers=headers)\n",
    "\n",
    "        # Parse the HTML content of the response\n",
    "        soup = BeautifulSoup(response.content, \"html.parser\")\n",
    "\n",
    "        # Find all img tags in the HTML\n",
    "        images = soup.find_all(\"img\")\n",
    "\n",
    "        # Iterate over the found images and download them\n",
    "        for j, img in enumerate(images):\n",
    "            if j >= limit:\n",
    "                break\n",
    "\n",
    "            try:\n",
    "                # Get the source URL of the image\n",
    "                src = img[\"src\"]\n",
    "\n",
    "                # Send an HTTP GET request to download the image\n",
    "                img_response = requests.get(src, stream=True)\n",
    "\n",
    "                # Set the file path for saving the image\n",
    "                file_path = f\"{keyword}/{keyword}_{start_index + j}.jpg\"\n",
    "\n",
    "                # Save the image to the file path\n",
    "                with open(file_path, \"wb\") as file:\n",
    "                    file.write(img_response.content)\n",
    "\n",
    "                print(f\"Downloaded image {start_index + j + 1}/{limit}\")\n",
    "            except Exception as e:\n",
    "                print(f\"Error downloading image {start_index + j + 1}: {str(e)}\")\n",
    "\n",
    "            # Delay for a short period between image downloads (to be polite to the server)\n",
    "            time.sleep(0.1)\n",
    "\n",
    "# Usage: Provide the keyword and the number of images to download\n",
    "keyword = \"a\"\n",
    "limit = 100\n",
    "download_images(keyword, limit)\n"
   ]
  },
  {
   "cell_type": "code",
   "execution_count": 1,
   "id": "a552df8c",
   "metadata": {},
   "outputs": [
    {
     "name": "stdout",
     "output_type": "stream",
     "text": [
      "CPU times: user 1 µs, sys: 0 ns, total: 1 µs\n",
      "Wall time: 3.1 µs\n"
     ]
    },
    {
     "ename": "NameError",
     "evalue": "name 'os' is not defined",
     "output_type": "error",
     "traceback": [
      "\u001b[0;31m---------------------------------------------------------------------------\u001b[0m",
      "\u001b[0;31mNameError\u001b[0m                                 Traceback (most recent call last)",
      "\u001b[0;32m/var/folders/1k/td1t09xd66d8yg1h7wd0_t5r0000gn/T/ipykernel_71305/759045667.py\u001b[0m in \u001b[0;36m<module>\u001b[0;34m\u001b[0m\n\u001b[1;32m     62\u001b[0m \u001b[0;34m\u001b[0m\u001b[0m\n\u001b[1;32m     63\u001b[0m \u001b[0;32mif\u001b[0m \u001b[0m__name__\u001b[0m \u001b[0;34m==\u001b[0m \u001b[0;34m\"__main__\"\u001b[0m\u001b[0;34m:\u001b[0m\u001b[0;34m\u001b[0m\u001b[0;34m\u001b[0m\u001b[0m\n\u001b[0;32m---> 64\u001b[0;31m   \u001b[0mmain\u001b[0m\u001b[0;34m(\u001b[0m\u001b[0;34m)\u001b[0m\u001b[0;34m\u001b[0m\u001b[0;34m\u001b[0m\u001b[0m\n\u001b[0m",
      "\u001b[0;32m/var/folders/1k/td1t09xd66d8yg1h7wd0_t5r0000gn/T/ipykernel_71305/759045667.py\u001b[0m in \u001b[0;36mmain\u001b[0;34m()\u001b[0m\n\u001b[1;32m     59\u001b[0m \u001b[0;34m\u001b[0m\u001b[0m\n\u001b[1;32m     60\u001b[0m   \u001b[0;31m# Download the images.\u001b[0m\u001b[0;34m\u001b[0m\u001b[0;34m\u001b[0m\u001b[0m\n\u001b[0;32m---> 61\u001b[0;31m   \u001b[0mdownload_images\u001b[0m\u001b[0;34m(\u001b[0m\u001b[0mimage_urls\u001b[0m\u001b[0;34m)\u001b[0m\u001b[0;34m\u001b[0m\u001b[0;34m\u001b[0m\u001b[0m\n\u001b[0m\u001b[1;32m     62\u001b[0m \u001b[0;34m\u001b[0m\u001b[0m\n\u001b[1;32m     63\u001b[0m \u001b[0;32mif\u001b[0m \u001b[0m__name__\u001b[0m \u001b[0;34m==\u001b[0m \u001b[0;34m\"__main__\"\u001b[0m\u001b[0;34m:\u001b[0m\u001b[0;34m\u001b[0m\u001b[0;34m\u001b[0m\u001b[0m\n",
      "\u001b[0;32m/var/folders/1k/td1t09xd66d8yg1h7wd0_t5r0000gn/T/ipykernel_71305/759045667.py\u001b[0m in \u001b[0;36mdownload_images\u001b[0;34m(image_urls)\u001b[0m\n\u001b[1;32m     40\u001b[0m   \u001b[0;31m# Create a directory to store the images.\u001b[0m\u001b[0;34m\u001b[0m\u001b[0;34m\u001b[0m\u001b[0m\n\u001b[1;32m     41\u001b[0m   \u001b[0mdirectory\u001b[0m \u001b[0;34m=\u001b[0m \u001b[0;34m\"\"\u001b[0m\u001b[0;34m\u001b[0m\u001b[0;34m\u001b[0m\u001b[0m\n\u001b[0;32m---> 42\u001b[0;31m   \u001b[0;32mif\u001b[0m \u001b[0;32mnot\u001b[0m \u001b[0mos\u001b[0m\u001b[0;34m.\u001b[0m\u001b[0mpath\u001b[0m\u001b[0;34m.\u001b[0m\u001b[0mexists\u001b[0m\u001b[0;34m(\u001b[0m\u001b[0mdirectory\u001b[0m\u001b[0;34m)\u001b[0m\u001b[0;34m:\u001b[0m\u001b[0;34m\u001b[0m\u001b[0;34m\u001b[0m\u001b[0m\n\u001b[0m\u001b[1;32m     43\u001b[0m     \u001b[0mos\u001b[0m\u001b[0;34m.\u001b[0m\u001b[0mmkdir\u001b[0m\u001b[0;34m(\u001b[0m\u001b[0mdirectory\u001b[0m\u001b[0;34m)\u001b[0m\u001b[0;34m\u001b[0m\u001b[0;34m\u001b[0m\u001b[0m\n\u001b[1;32m     44\u001b[0m \u001b[0;34m\u001b[0m\u001b[0m\n",
      "\u001b[0;31mNameError\u001b[0m: name 'os' is not defined"
     ]
    }
   ],
   "source": [
    "%time\n",
    "import requests\n",
    "from bs4 import BeautifulSoup\n",
    "\n",
    "def get_images(query):\n",
    "  \"\"\"\n",
    "  Get the first 100 images from Google Images for a given query.\n",
    "\n",
    "  Args:\n",
    "    query: The query to search for.\n",
    "\n",
    "  Returns:\n",
    "    A list of image URLs.\n",
    "  \"\"\"\n",
    "\n",
    "  # Make a request to Google Images.\n",
    "  response = requests.get(\"https://www.google.com/search?q=\" + query)\n",
    "\n",
    "  # Parse the response as HTML.\n",
    "  soup = BeautifulSoup(response.content, \"html.parser\")\n",
    "\n",
    "  # Find the image results.\n",
    "  image_results = soup.find_all(\"img\", class_=\"rg_i\")\n",
    "\n",
    "  # Get the image URLs.\n",
    "  image_urls = [image[\"src\"] for image in image_results]\n",
    "\n",
    "  # Return the first 100 image URLs.\n",
    "  return image_urls[:100]\n",
    "\n",
    "def download_images(image_urls):\n",
    "  \"\"\"\n",
    "  Download the images from a list of image URLs.\n",
    "\n",
    "  Args:\n",
    "    image_urls: A list of image URLs.\n",
    "\n",
    "  \"\"\"\n",
    "\n",
    "  # Create a directory to store the images.\n",
    "  directory = \"\"\n",
    "  if not os.path.exists(directory):\n",
    "    os.mkdir(directory)\n",
    "\n",
    "  # Download the images.\n",
    "  for image_url in image_urls:\n",
    "    image_name = image_url.split(\"/\")[-1]\n",
    "    image_path = os.path.join(directory, image_name)\n",
    "    response = requests.get(image_url)\n",
    "    with open(image_path, \"wb\") as f:\n",
    "      f.write(response.content)\n",
    "\n",
    "def main():\n",
    "  # Get the input query.\n",
    "  query = input(\"Enter a query: \")\n",
    "\n",
    "  # Get the image URLs.\n",
    "  image_urls = get_images(query)\n",
    "\n",
    "  # Download the images.\n",
    "  download_images(image_urls)\n",
    "\n",
    "if __name__ == \"__main__\":\n",
    "  main()\n"
   ]
  },
  {
   "cell_type": "code",
   "execution_count": 2,
   "id": "807555a5-c093-4528-8233-2fb6c6cbab98",
   "metadata": {},
   "outputs": [
    {
     "name": "stdout",
     "output_type": "stream",
     "text": [
      "CPU times: user 3 µs, sys: 3 µs, total: 6 µs\n",
      "Wall time: 12.9 µs\n"
     ]
    }
   ],
   "source": [
    "%time\n",
    "import numpy as np\n",
    "import cv2 as cv\n",
    "import os\n",
    "import faiss"
   ]
  },
  {
   "cell_type": "code",
   "execution_count": 3,
   "id": "3634076c-2d95-416a-a5ed-69e89964755b",
   "metadata": {},
   "outputs": [],
   "source": [
    "def get_sift_keypoints(img):\n",
    "    gray= cv.cvtColor(img,cv.COLOR_BGR2GRAY)\n",
    "    sift = cv.SIFT_create(nfeatures=5000)\n",
    "    kp, des = sift.detectAndCompute(gray, None)\n",
    "    return kp, des"
   ]
  },
  {
   "cell_type": "code",
   "execution_count": 11,
   "id": "702644c5-2bea-46a9-8628-6f928e8ff4dc",
   "metadata": {},
   "outputs": [],
   "source": [
    "labels = []\n",
    "features = []\n",
    "for image_name in os.listdir('images'):\n",
    "    building_name = image_name[0:image_name.find('.')]\n",
    "    \n",
    "    image_path = 'images/' + image_name\n",
    "    img = cv.imread(image_path)\n",
    "    \n",
    "    kp, des = get_sift_keypoints(img)\n",
    "    labels += [building_name for i in range(len(kp))]\n",
    "    \n",
    "    features.append(np.vstack(des))\n",
    "    \n",
    "    # img=cv.drawKeypoints(gray,kp,img)\n",
    "    # cv.imshow('image',img)\n",
    "    # cv.waitKey(0)"
   ]
  },
  {
   "cell_type": "code",
   "execution_count": 12,
   "id": "d3144fbc-5e3d-4ed7-9d7b-9ea0ac1ea740",
   "metadata": {
    "tags": []
   },
   "outputs": [
    {
     "data": {
      "text/plain": [
       "112722"
      ]
     },
     "execution_count": 12,
     "metadata": {},
     "output_type": "execute_result"
    }
   ],
   "source": [
    "len(labels)"
   ]
  },
  {
   "cell_type": "code",
   "execution_count": 13,
   "id": "87ac8be5-94f7-4b08-bfa4-ae248e66b81e",
   "metadata": {},
   "outputs": [
    {
     "data": {
      "text/plain": [
       "(112722, 128)"
      ]
     },
     "execution_count": 13,
     "metadata": {},
     "output_type": "execute_result"
    }
   ],
   "source": [
    "features_ar = np.vstack(features)\n",
    "features_ar.shape"
   ]
  },
  {
   "cell_type": "code",
   "execution_count": 14,
   "id": "9d94b0e5-6dc2-45dd-bf95-682ea7d8e197",
   "metadata": {},
   "outputs": [
    {
     "name": "stdout",
     "output_type": "stream",
     "text": [
      "112722\n"
     ]
    }
   ],
   "source": [
    "index = faiss.IndexFlatL2(128)\n",
    "index.add(features_ar)\n",
    "print(index.ntotal)"
   ]
  },
  {
   "cell_type": "code",
   "execution_count": 15,
   "id": "4553cc56-1d14-44dc-88fc-936484377af3",
   "metadata": {},
   "outputs": [],
   "source": [
    "def find_closest_image_match(img):\n",
    "    return None"
   ]
  },
  {
   "cell_type": "code",
   "execution_count": 16,
   "id": "436511b3-a126-4ce6-96b0-5acba6508177",
   "metadata": {},
   "outputs": [],
   "source": [
    "search_image_path = 'search.jpg'\n",
    "img = cv.imread(search_image_path)\n",
    "kp, des = get_sift_keypoints(img)\n",
    "k = 1"
   ]
  },
  {
   "cell_type": "code",
   "execution_count": 17,
   "id": "99bcf11b-c6d4-4017-a4a1-805a76eae387",
   "metadata": {},
   "outputs": [
    {
     "data": {
      "text/plain": [
       "{'Norris_University_Center_3': 8,\n",
       " 'Walter_Annenberg_Hall_1': 10,\n",
       " 'Fisk_Hall_4': 20,\n",
       " 'Swift_Hall_2': 5,\n",
       " 'The_Rock_1': 41,\n",
       " 'Harris_Hall_2': 30,\n",
       " 'The_Virginia_Wadsworth_Wirtz_Center_3': 83,\n",
       " 'The_Rock_4': 16,\n",
       " 'Kellogg_Global_Hub_4': 25,\n",
       " 'Pick_Staiger_Concert_Hall_1': 93,\n",
       " 'Bienen_School_of_Music_4': 45,\n",
       " 'Donald_P_Jacobs_Center_2': 3,\n",
       " 'Bienen_School_of_Music_2': 69,\n",
       " 'The_Virginia_Wadsworth_Wirtz_Center_1': 80,\n",
       " 'Garrett-Evangelical_Theological_Seminary_1': 35,\n",
       " 'kellogg': 148,\n",
       " 'Norris_University_Center_2': 110,\n",
       " 'kellogg_full': 222,\n",
       " 'Mudd_Library_3': 11,\n",
       " 'The_Virginia_Wadsworth_Wirtz_Center_4': 30,\n",
       " 'Bienen_School_of_Music_1': 68,\n",
       " 'Mudd_Library_1': 10,\n",
       " 'University_Hall_2': 10,\n",
       " 'Pick_Staiger_Concert_Hall_2': 140,\n",
       " 'Ford_Motor_Company_Engineering_Design_Center_2': 16,\n",
       " 'Ford_Motor_Company_Engineering_Design_Center_1': 12,\n",
       " 'Deering_Library_2': 7,\n",
       " 'University_Hall_3': 11,\n",
       " 'Kellogg_Global_Hub_3': 12,\n",
       " 'Crowe_Hall_1': 10,\n",
       " 'Segal_Visitors_Center_4': 24,\n",
       " 'University_Library_4': 8,\n",
       " 'Henry_Crown_Sports_Pavilion_3': 9,\n",
       " 'Kellogg_Global_Hub_1': 10,\n",
       " 'Walter_Annenberg_Hall_4': 9,\n",
       " 'tech': 55,\n",
       " 'Block_Museum_of_Art_2': 12,\n",
       " 'James_L_Allen_Center_1': 13,\n",
       " 'Fisk_Hall_1': 23,\n",
       " 'Mudd_Library_2': 11,\n",
       " 'The_Rock_3': 24,\n",
       " 'Sargent_Hall_3': 5,\n",
       " 'Fisk_Hall_2': 79,\n",
       " 'Walter_Annenberg_Hall_3': 13,\n",
       " 'Bienen_School_of_Music_3': 88,\n",
       " 'Technological_Institute_2': 7,\n",
       " 'Harris_Hall_3': 17,\n",
       " 'Pick_Staiger_Concert_Hall_3': 7,\n",
       " 'Harris_Hall_1': 39,\n",
       " 'Segal_Visitors_Center_1': 25,\n",
       " 'Fisk_Hall_3': 16,\n",
       " 'James_L_Allen_Center_3': 8,\n",
       " 'Department_of_Mathematics_1': 16,\n",
       " 'Kresge_Centennial_Hall_3': 12,\n",
       " 'Crowe_Hall_2': 12,\n",
       " 'segal': 43,\n",
       " 'The_Rock_2': 54,\n",
       " 'Walter_Annenberg_Hall_2': 11,\n",
       " 'Cook_Hall_4': 27,\n",
       " 'Harris_Hall_4': 32,\n",
       " 'Swift_Hall_3': 82,\n",
       " 'Swift_Hall_4': 15,\n",
       " 'Sargent_Hall_4': 3,\n",
       " 'Garrett-Evangelical_Theological_Seminary_3': 10,\n",
       " 'University_Library_3': 19,\n",
       " 'Crowe_Hall_3': 14,\n",
       " 'Deering_Library_3': 13,\n",
       " 'Deering_Library_1': 7,\n",
       " 'Kellogg_Global_Hub_2': 14,\n",
       " 'Dearborn_Observatory_2': 7,\n",
       " 'The_Virginia_Wadsworth_Wirtz_Center_2': 35,\n",
       " 'Cook_Hall_1': 23,\n",
       " 'Kresge_Centennial_Hall_4': 11,\n",
       " 'James_L_Allen_Center_4': 7,\n",
       " 'Donald_P_Jacobs_Center_1': 7,\n",
       " 'Donald_P_Jacobs_Center_3': 13,\n",
       " 'University_Library_1': 10,\n",
       " 'University_Library_2': 9,\n",
       " 'Mudd_Library_4': 9,\n",
       " 'Dearborn_Observatory_3': 11,\n",
       " 'University_Hall_1': 11,\n",
       " 'Technological_Institute_3': 14,\n",
       " 'Garrett-Evangelical_Theological_Seminary_2': 14,\n",
       " 'James_L_Allen_Center_2': 12,\n",
       " 'Cook_Hall_3': 18,\n",
       " 'Department_of_Mathematics_2': 8,\n",
       " 'Sargent_Hall_2': 5,\n",
       " 'Henry_Crown_Sports_Pavilion_1': 11,\n",
       " 'Department_of_Mathematics_4': 4,\n",
       " 'University_Hall_4': 7,\n",
       " 'Technological_Institute_1': 9,\n",
       " 'Kresge_Centennial_Hall_1': 9,\n",
       " 'Norris_University_Center_4': 4,\n",
       " 'Donald_P_Jacobs_Center_4': 10,\n",
       " 'Ford_Motor_Company_Engineering_Design_Center_3': 9,\n",
       " 'Crowe_Hall_4': 1,\n",
       " 'Swift_Hall_1': 7,\n",
       " 'Henry_Crown_Sports_Pavilion_2': 13,\n",
       " 'Kresge_Centennial_Hall_2': 5,\n",
       " 'Block_Museum_of_Art_4': 11,\n",
       " 'Henry_Crown_Sports_Pavilion_4': 6,\n",
       " 'Department_of_Mathematics_3': 15,\n",
       " 'Block_Museum_of_Art_3': 5,\n",
       " 'Technological_Institute_4': 6,\n",
       " 'Deering_Library_4': 5,\n",
       " 'Pick_Staiger_Concert_Hall_4': 5,\n",
       " 'Norris_University_Center_1': 4,\n",
       " 'Cook_Hall_2': 22,\n",
       " 'Garrett-Evangelical_Theological_Seminary_4': 8,\n",
       " 'Sargent_Hall_1': 8,\n",
       " 'Ford_Motor_Company_Engineering_Design_Center_4': 5,\n",
       " 'Dearborn_Observatory_4': 5,\n",
       " 'Dearborn_Observatory_1': 5,\n",
       " 'Block_Museum_of_Art_1': 4}"
      ]
     },
     "execution_count": 17,
     "metadata": {},
     "output_type": "execute_result"
    }
   ],
   "source": [
    "preds = {}\n",
    "for d in des:\n",
    "    D, I = index.search(d.reshape((1, 128)), k)\n",
    "    pred = labels[I[0, 0]]\n",
    "    if pred not in preds:\n",
    "        preds[pred] = 0\n",
    "    preds[pred] += 1\n",
    "\n",
    "preds"
   ]
  },
  {
   "cell_type": "code",
   "execution_count": null,
   "id": "5d750547",
   "metadata": {},
   "outputs": [],
   "source": []
  }
 ],
 "metadata": {
  "kernelspec": {
   "display_name": "Python 3 (ipykernel)",
   "language": "python",
   "name": "python3"
  },
  "language_info": {
   "codemirror_mode": {
    "name": "ipython",
    "version": 3
   },
   "file_extension": ".py",
   "mimetype": "text/x-python",
   "name": "python",
   "nbconvert_exporter": "python",
   "pygments_lexer": "ipython3",
   "version": "3.9.15"
  }
 },
 "nbformat": 4,
 "nbformat_minor": 5
}
