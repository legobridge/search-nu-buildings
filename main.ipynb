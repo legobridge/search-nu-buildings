{
 "cells": [
  {
   "cell_type": "code",
   "execution_count": 1,
   "id": "807555a5-c093-4528-8233-2fb6c6cbab98",
   "metadata": {},
   "outputs": [],
   "source": [
    "import numpy as np\n",
    "import cv2 as cv\n",
    "import os\n",
    "import math\n",
    "import faiss"
   ]
  },
  {
   "cell_type": "code",
   "execution_count": 2,
   "id": "3634076c-2d95-416a-a5ed-69e89964755b",
   "metadata": {},
   "outputs": [],
   "source": [
    "def get_sift_keypoints(img):\n",
    "    gray= cv.cvtColor(img,cv.COLOR_BGR2GRAY)\n",
    "    sift = cv.SIFT_create(nfeatures=5000)\n",
    "    kp, des = sift.detectAndCompute(gray, None)\n",
    "    return kp, des"
   ]
  },
  {
   "cell_type": "code",
   "execution_count": 3,
   "id": "702644c5-2bea-46a9-8628-6f928e8ff4dc",
   "metadata": {},
   "outputs": [],
   "source": [
    "def create_sift_database():\n",
    "    labels = []\n",
    "    features = []\n",
    "    for image_name in os.listdir('images'):\n",
    "        if '.jpeg' not in image_name and '.jpg' not in image_name:\n",
    "            continue\n",
    "        index_of_dot = image_name.find('.')\n",
    "        building_name = image_name[0:(index_of_dot - 2)]\n",
    "\n",
    "        image_path = 'images/' + image_name\n",
    "        img = cv.imread(image_path)\n",
    "\n",
    "        kp, des = get_sift_keypoints(img)\n",
    "        labels += [building_name for i in range(len(kp))]\n",
    "\n",
    "        features.append(np.vstack(des))\n",
    "    return labels, features\n",
    "    \n",
    "        # img=cv.drawKeypoints(gray,kp,img)\n",
    "        # cv.imshow('image',img)\n",
    "        # cv.waitKey(0)"
   ]
  },
  {
   "cell_type": "code",
   "execution_count": 4,
   "id": "0ef3db83-2da3-4a56-99c4-d8661fc0a48c",
   "metadata": {},
   "outputs": [],
   "source": [
    "labels, features = create_sift_database()"
   ]
  },
  {
   "cell_type": "code",
   "execution_count": 5,
   "id": "d3144fbc-5e3d-4ed7-9d7b-9ea0ac1ea740",
   "metadata": {
    "tags": []
   },
   "outputs": [
    {
     "data": {
      "text/plain": [
       "98399"
      ]
     },
     "execution_count": 5,
     "metadata": {},
     "output_type": "execute_result"
    }
   ],
   "source": [
    "len(labels)"
   ]
  },
  {
   "cell_type": "code",
   "execution_count": 6,
   "id": "87ac8be5-94f7-4b08-bfa4-ae248e66b81e",
   "metadata": {},
   "outputs": [
    {
     "data": {
      "text/plain": [
       "(98399, 128)"
      ]
     },
     "execution_count": 6,
     "metadata": {},
     "output_type": "execute_result"
    }
   ],
   "source": [
    "features_ar = np.vstack(features)\n",
    "features_ar.shape"
   ]
  },
  {
   "cell_type": "code",
   "execution_count": 7,
   "id": "9d94b0e5-6dc2-45dd-bf95-682ea7d8e197",
   "metadata": {},
   "outputs": [
    {
     "name": "stdout",
     "output_type": "stream",
     "text": [
      "98399\n"
     ]
    }
   ],
   "source": [
    "index = faiss.IndexFlatL2(128)\n",
    "index.add(features_ar)\n",
    "print(index.ntotal)"
   ]
  },
  {
   "cell_type": "code",
   "execution_count": 8,
   "id": "7eec501c-5509-4ce1-80f9-6dc32deb65af",
   "metadata": {},
   "outputs": [],
   "source": [
    "def get_percentage_scores(top_tuple_list, softmax_temp=3):\n",
    "    # Softmax calculation\n",
    "    top_list = []\n",
    "    sum_of_scores = 0\n",
    "    for score, name in top_tuple_list:\n",
    "        top_list.append(name)\n",
    "        sum_of_scores += math.exp(score / softmax_temp)\n",
    "    percentage_scores = [math.exp(top_tuple_list[i][0] / softmax_temp) * 100 / sum_of_scores for i in range(len(top_tuple_list))]\n",
    "    return top_list, percentage_scores"
   ]
  },
  {
   "cell_type": "code",
   "execution_count": 9,
   "id": "4553cc56-1d14-44dc-88fc-936484377af3",
   "metadata": {},
   "outputs": [],
   "source": [
    "def find_closest_image_match(img, k=5, method='sift'):\n",
    "    if method == 'sift':\n",
    "        kp, des = get_sift_keypoints(img)\n",
    "        preds = {}\n",
    "        for d in des:\n",
    "            D, I = index.search(d.reshape((1, 128)), k)\n",
    "            for i, idx in enumerate(I[0]):\n",
    "                pred = labels[idx]\n",
    "                if pred not in preds:\n",
    "                    preds[pred] = 0\n",
    "                preds[pred] += 1 / (i + 1)\n",
    "        top_tuple_list = sorted([(v, k) for k, v in preds.items()], reverse=True)\n",
    "        top_list, percentage_scores = get_percentage_scores(top_tuple_list)\n",
    "        return top_list, percentage_scores\n",
    "    elif method == 'surf':\n",
    "        return None\n",
    "    else:\n",
    "        return None"
   ]
  },
  {
   "cell_type": "code",
   "execution_count": 10,
   "id": "436511b3-a126-4ce6-96b0-5acba6508177",
   "metadata": {},
   "outputs": [],
   "source": [
    "search_image_path = 'search.jpg'\n",
    "img = cv.imread(search_image_path)"
   ]
  },
  {
   "cell_type": "code",
   "execution_count": 11,
   "id": "99bcf11b-c6d4-4017-a4a1-805a76eae387",
   "metadata": {},
   "outputs": [
    {
     "name": "stdout",
     "output_type": "stream",
     "text": [
      "Bienen_School_of_Music with 100.00% confidence\n",
      "The_Virginia_Wadsworth_Wirtz_Center with 0.00% confidence\n",
      "Pick_Staiger_Concert_Hall with 0.00% confidence\n",
      "Norris_University_Center with 0.00% confidence\n",
      "Swift_Hall with 0.00% confidence\n",
      "The_Rock with 0.00% confidence\n",
      "Fisk_Hall with 0.00% confidence\n",
      "Harris_Hall with 0.00% confidence\n",
      "Cook_Hall with 0.00% confidence\n",
      "Segal_Visitors_Center with 0.00% confidence\n",
      "Kellogg_Global_Hub with 0.00% confidence\n",
      "Block_Museum_of_Art with 0.00% confidence\n",
      "Garrett-Evangelical_Theological_Seminary with 0.00% confidence\n",
      "Mudd_Library with 0.00% confidence\n",
      "Kresge_Centennial_Hall with 0.00% confidence\n",
      "James_L_Allen_Center with 0.00% confidence\n",
      "Department_of_Mathematics with 0.00% confidence\n",
      "Crowe_Hall with 0.00% confidence\n",
      "Dearborn_Observatory with 0.00% confidence\n",
      "Henry_Crown_Sports_Pavilion with 0.00% confidence\n",
      "Deering_Library with 0.00% confidence\n",
      "Sargent_Hall with 0.00% confidence\n",
      "Donald_P_Jacobs_Center with 0.00% confidence\n",
      "Walter_Annenberg_Hall with 0.00% confidence\n",
      "University_Hall with 0.00% confidence\n",
      "Technological_Institute with 0.00% confidence\n",
      "Ford_Motor_Company_Engineering_Design_Center with 0.00% confidence\n",
      "University_Library with 0.00% confidence\n"
     ]
    }
   ],
   "source": [
    "top_list, percentage_scores = find_closest_image_match(img)\n",
    "for i in range(len(top_list)):\n",
    "    name = top_list[i]\n",
    "    percentage_score = percentage_scores[i]\n",
    "    print(f'{name} with {percentage_score:.2f}% confidence')"
   ]
  }
 ],
 "metadata": {
  "kernelspec": {
   "display_name": "Python 3 (ipykernel)",
   "language": "python",
   "name": "python3"
  },
  "language_info": {
   "codemirror_mode": {
    "name": "ipython",
    "version": 3
   },
   "file_extension": ".py",
   "mimetype": "text/x-python",
   "name": "python",
   "nbconvert_exporter": "python",
   "pygments_lexer": "ipython3",
   "version": "3.8.15"
  }
 },
 "nbformat": 4,
 "nbformat_minor": 5
}
