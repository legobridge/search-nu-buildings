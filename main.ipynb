{
 "cells": [
  {
   "cell_type": "code",
   "execution_count": 1,
   "id": "807555a5-c093-4528-8233-2fb6c6cbab98",
   "metadata": {},
   "outputs": [],
   "source": [
    "import numpy as np\n",
    "import cv2 as cv\n",
    "import os\n",
    "import faiss"
   ]
  },
  {
   "cell_type": "code",
   "execution_count": 2,
   "id": "3634076c-2d95-416a-a5ed-69e89964755b",
   "metadata": {},
   "outputs": [],
   "source": [
    "def get_sift_keypoints(img):\n",
    "    gray= cv.cvtColor(img,cv.COLOR_BGR2GRAY)\n",
    "    sift = cv.SIFT_create(nfeatures=5000)\n",
    "    kp, des = sift.detectAndCompute(gray, None)\n",
    "    return kp, des"
   ]
  },
  {
   "cell_type": "code",
   "execution_count": 3,
   "id": "702644c5-2bea-46a9-8628-6f928e8ff4dc",
   "metadata": {},
   "outputs": [],
   "source": [
    "labels = []\n",
    "features = []\n",
    "for image_name in os.listdir('images'):\n",
    "    building_name = image_name[0:image_name.find('.')]\n",
    "    \n",
    "    image_path = 'images/' + image_name\n",
    "    img = cv.imread(image_path)\n",
    "    \n",
    "    kp, des = get_sift_keypoints(img)\n",
    "    labels += [building_name for i in range(len(kp))]\n",
    "    \n",
    "    features.append(np.vstack(des))\n",
    "    \n",
    "    # img=cv.drawKeypoints(gray,kp,img)\n",
    "    # cv.imshow('image',img)\n",
    "    # cv.waitKey(0)"
   ]
  },
  {
   "cell_type": "code",
   "execution_count": 4,
   "id": "d3144fbc-5e3d-4ed7-9d7b-9ea0ac1ea740",
   "metadata": {
    "tags": []
   },
   "outputs": [
    {
     "data": {
      "text/plain": [
       "14325"
      ]
     },
     "execution_count": 4,
     "metadata": {},
     "output_type": "execute_result"
    }
   ],
   "source": [
    "len(labels)"
   ]
  },
  {
   "cell_type": "code",
   "execution_count": 5,
   "id": "87ac8be5-94f7-4b08-bfa4-ae248e66b81e",
   "metadata": {},
   "outputs": [
    {
     "data": {
      "text/plain": [
       "(14325, 128)"
      ]
     },
     "execution_count": 5,
     "metadata": {},
     "output_type": "execute_result"
    }
   ],
   "source": [
    "features_ar = np.vstack(features)\n",
    "features_ar.shape"
   ]
  },
  {
   "cell_type": "code",
   "execution_count": 6,
   "id": "9d94b0e5-6dc2-45dd-bf95-682ea7d8e197",
   "metadata": {},
   "outputs": [
    {
     "name": "stdout",
     "output_type": "stream",
     "text": [
      "14325\n"
     ]
    }
   ],
   "source": [
    "index = faiss.IndexFlatL2(128)\n",
    "index.add(features_ar)\n",
    "print(index.ntotal)"
   ]
  },
  {
   "cell_type": "code",
   "execution_count": 7,
   "id": "4553cc56-1d14-44dc-88fc-936484377af3",
   "metadata": {},
   "outputs": [],
   "source": [
    "def find_closest_image_match(img):\n",
    "    return None"
   ]
  },
  {
   "cell_type": "code",
   "execution_count": 12,
   "id": "436511b3-a126-4ce6-96b0-5acba6508177",
   "metadata": {},
   "outputs": [],
   "source": [
    "search_image_path = 'search.jpg'\n",
    "img = cv.imread(search_image_path)\n",
    "kp, des = get_sift_keypoints(img)\n",
    "k = 1"
   ]
  },
  {
   "cell_type": "code",
   "execution_count": 13,
   "id": "99bcf11b-c6d4-4017-a4a1-805a76eae387",
   "metadata": {},
   "outputs": [
    {
     "data": {
      "text/plain": [
       "{'kellogg': 970, 'tech': 489, 'kellogg_full': 855, 'segal': 382}"
      ]
     },
     "execution_count": 13,
     "metadata": {},
     "output_type": "execute_result"
    }
   ],
   "source": [
    "preds = {}\n",
    "for d in des:\n",
    "    D, I = index.search(d.reshape((1, 128)), k)\n",
    "    pred = labels[I[0, 0]]\n",
    "    if pred not in preds:\n",
    "        preds[pred] = 0\n",
    "    preds[pred] += 1\n",
    "\n",
    "preds"
   ]
  }
 ],
 "metadata": {
  "kernelspec": {
   "display_name": "Python 3 (ipykernel)",
   "language": "python",
   "name": "python3"
  },
  "language_info": {
   "codemirror_mode": {
    "name": "ipython",
    "version": 3
   },
   "file_extension": ".py",
   "mimetype": "text/x-python",
   "name": "python",
   "nbconvert_exporter": "python",
   "pygments_lexer": "ipython3",
   "version": "3.9.15"
  }
 },
 "nbformat": 4,
 "nbformat_minor": 5
}
